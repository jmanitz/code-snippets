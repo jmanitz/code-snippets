{
 "cells": [
  {
   "cell_type": "code",
   "execution_count": 15,
   "id": "bd592f31-410c-4250-a3d1-202b62cbb99a",
   "metadata": {},
   "outputs": [],
   "source": [
    "# Roman to Integer\n",
    "# Given a roman numeral, convert it to an integer.\n",
    "def romanToInt(s):\n",
    "\n",
    "    roman_num = {\n",
    "            \"I\": 1, \n",
    "            \"V\": 5, \n",
    "            \"X\": 10,\n",
    "            \"L\": 50,\n",
    "            \"C\": 100,\n",
    "            \"D\": 500,\n",
    "            \"M\": 1000\n",
    "    }\n",
    "\n",
    "    total = 0\n",
    "    prev_value = 0\n",
    "\n",
    "    for char in s: \n",
    "        value = roman_num[char]\n",
    "\n",
    "        if prev_value < value:\n",
    "            total += value - 2* prev_value \n",
    "        else: \n",
    "            total += value\n",
    "            \n",
    "        prev_value = value\n",
    "\n",
    "    return total\n",
    "             "
   ]
  },
  {
   "cell_type": "code",
   "execution_count": 13,
   "id": "1a782a0b-bd1d-4579-bea3-ea05c1e20cad",
   "metadata": {},
   "outputs": [
    {
     "data": {
      "text/plain": [
       "3"
      ]
     },
     "execution_count": 13,
     "metadata": {},
     "output_type": "execute_result"
    }
   ],
   "source": [
    "romanToInt(\"III\")"
   ]
  },
  {
   "cell_type": "code",
   "execution_count": 17,
   "id": "c16011f7-01d7-42d7-bf86-dcdf6e50bd60",
   "metadata": {},
   "outputs": [
    {
     "data": {
      "text/plain": [
       "58"
      ]
     },
     "execution_count": 17,
     "metadata": {},
     "output_type": "execute_result"
    }
   ],
   "source": [
    "romanToInt(\"LVIII\")"
   ]
  },
  {
   "cell_type": "code",
   "execution_count": 19,
   "id": "d983f682-ab26-4f89-8af8-a5b679962271",
   "metadata": {},
   "outputs": [
    {
     "data": {
      "text/plain": [
       "1994"
      ]
     },
     "execution_count": 19,
     "metadata": {},
     "output_type": "execute_result"
    }
   ],
   "source": [
    "romanToInt(\"MCMXCIV\")"
   ]
  }
 ],
 "metadata": {
  "kernelspec": {
   "display_name": "Python 3 (ipykernel)",
   "language": "python",
   "name": "python3"
  },
  "language_info": {
   "codemirror_mode": {
    "name": "ipython",
    "version": 3
   },
   "file_extension": ".py",
   "mimetype": "text/x-python",
   "name": "python",
   "nbconvert_exporter": "python",
   "pygments_lexer": "ipython3",
   "version": "3.12.3"
  }
 },
 "nbformat": 4,
 "nbformat_minor": 5
}
