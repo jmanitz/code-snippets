{
 "cells": [
  {
   "cell_type": "code",
   "execution_count": 1,
   "id": "7da0e164-1512-4c02-82d8-c5d46b9e41f5",
   "metadata": {},
   "outputs": [],
   "source": [
    "# Problem: Write a function that given a list of M photos, returns the string representing the list of new names of all photos \n",
    "# (order of the photos should stay the same) file with extension jpg, png, jpeg, name of the city, time and date, \n",
    "# sometimes, different locations share time/date due to timezone differences\n",
    "# \n",
    "# Organize photos, group by cities, and the by time/date, Name pictures, city.seq numbers, \n",
    "# while numbering includes lead zeros according to max number in group, same file type extension as the original file\n",
    "# Details:\n",
    "# - Input format: “<<photoname>>.<<extension>>, <<city_name>>, yyyy-mm-dd hh:mm:ss”\n",
    "# - City names with english char only s in 1..20\n",
    "# - M in 1..100\n",
    "# - Year in 2000..2020\n",
    "#\n",
    "# you can write to stdout for debugging purposes, e.g.\n",
    "# print(\"this is a debug message\")"
   ]
  },
  {
   "cell_type": "code",
   "execution_count": 2,
   "id": "0ffb66af-392b-4aa4-8ed0-c68c1ac01efc",
   "metadata": {},
   "outputs": [],
   "source": [
    "# Plase note that external libraries, such as NumPy or Pandas are NOT available for this task\n",
    "import re\n",
    "from collections import defaultdict"
   ]
  },
  {
   "cell_type": "code",
   "execution_count": 3,
   "id": "a04ab7a4-9f12-4e61-97d7-c05dd4a814ec",
   "metadata": {},
   "outputs": [],
   "source": [
    "def solution(S):\n",
    "    # Implement your solution here\n",
    " \n",
    "    #parse regex ... are difficult and hard to debug\n",
    "    #pattern = re.compile(r\"(.+)\\.(jpg|png|jpeg),\\s*(.+),\\s*(\\d{4}-\\d{2}-\\d{2} \\d{2}:\\d{2}:\\d{2})\")\n",
    "    #match = pattern.match(pic)   \n",
    "\n",
    "    # dict for data\n",
    "    pic_info = []\n",
    "    city_tt_grp = defaultdict(lambda: defaultdict(list))\n",
    " \n",
    "    # extract data\n",
    "    for pic in S:\n",
    "        # : “<<photoname>>.<<extension>>, <<city_name>>, yyyy-mm-dd hh:mm:ss”\n",
    "        parts = pic.split(', ')\n",
    "        file_name_ext = parts[0].split('.')\n",
    "        file_name = file_name_ext[0]\n",
    "        ext = file_name_ext[1]\n",
    "        city = parts[1]\n",
    "        tt = parts[2]\n",
    "\n",
    "        city_tt_grp[city][tt].append((file_name, ext))\n",
    "        pic_info.append((city, tt, file_name, ext))\n",
    "    \n",
    "    seq_no = defaultdict(lambda: defaultdict(int))\n",
    " \n",
    "    # new picture names\n",
    "    pic_names = []\n",
    " \n",
    "    for city, tt, file_name, ext in pic_info:\n",
    "\n",
    "        # Define sequence number for each pic\n",
    "        seq = seq_no[city]\n",
    "        seq_no[city][tt] += len(seq)\n",
    "        # Define max digits \n",
    "        max_seq_ll = len(str(len(city_tt_grp[city])))\n",
    "        # Pad with zeroes to the left\n",
    "        seq_str = str(seq_no[city][tt]).zfill(max_seq_ll)\n",
    "         \n",
    "        pic_name = f\"{city}.{seq_str}.{ext}\"\n",
    "        pic_names.append(pic_name)\n",
    "   \n",
    "    return '\\n '.join(pic_names)"
   ]
  },
  {
   "cell_type": "code",
   "execution_count": 4,
   "id": "25f2a27b-b53e-48c7-8836-4c38c5881251",
   "metadata": {},
   "outputs": [
    {
     "name": "stdout",
     "output_type": "stream",
     "text": [
      "['photo.jpg, Warsaw, 2013-09-05 14:08:15', 'Jay.png, London, 2015-06-20 15:13:22', 'myFriends.png, Warsaw, 2013-09-05 14:07:13', 'Eiffel.jpg, Paris, 2015-07-23 08:03:02', 'pisatower.jpg, Paris, 2015-07-22 23:59:59', 'BOB.jpg, London, 2015-08-05 00:02:03', 'notredame.png, Paris, 2015-09-01 12:00:00', 'me.jpg, Warsaw, 2013-09-06 15:40:22', 'a.png, Warsaw, 2016-02-13 13:33:50', 'b.jpg, Warsaw, 2016-01-02 15:12:22', 'c.jpg, Warsaw, 2016-01-02 14:34:30', 'd.jpg, Warsaw, 2016-01-02 15:15:01', 'e.png, Warsaw, 2016-01-02 09:49:09', 'f.png, Warsaw, 2016-01-02 10:55:32', 'g.jpg, Warsaw, 2016-02-29 22:13:11']\n"
     ]
    }
   ],
   "source": [
    "# Example Input\n",
    "S = [\"photo.jpg, Warsaw, 2013-09-05 14:08:15\", \n",
    "     \"Jay.png, London, 2015-06-20 15:13:22\", \n",
    "     \"myFriends.png, Warsaw, 2013-09-05 14:07:13\", \n",
    "     \"Eiffel.jpg, Paris, 2015-07-23 08:03:02\", \n",
    "     \"pisatower.jpg, Paris, 2015-07-22 23:59:59\",  \n",
    "     \"BOB.jpg, London, 2015-08-05 00:02:03\",\n",
    "     \"notredame.png, Paris, 2015-09-01 12:00:00\",\n",
    "     \"me.jpg, Warsaw, 2013-09-06 15:40:22\",\n",
    "     \"a.png, Warsaw, 2016-02-13 13:33:50\", \n",
    "     \"b.jpg, Warsaw, 2016-01-02 15:12:22\",\n",
    "     \"c.jpg, Warsaw, 2016-01-02 14:34:30\",\n",
    "     \"d.jpg, Warsaw, 2016-01-02 15:15:01\", \n",
    "     \"e.png, Warsaw, 2016-01-02 09:49:09\",\n",
    "     \"f.png, Warsaw, 2016-01-02 10:55:32\",\n",
    "     \"g.jpg, Warsaw, 2016-02-29 22:13:11\"]\n",
    "print(S)"
   ]
  },
  {
   "cell_type": "code",
   "execution_count": 5,
   "id": "2aaac438-035f-4ce0-92d6-8660a8080441",
   "metadata": {},
   "outputs": [
    {
     "data": {
      "text/plain": [
       "'Warsaw.01.jpg\\n London.1.png\\n Warsaw.02.png\\n Paris.1.jpg\\n Paris.2.jpg\\n London.2.jpg\\n Paris.3.png\\n Warsaw.03.jpg\\n Warsaw.04.png\\n Warsaw.05.jpg\\n Warsaw.06.jpg\\n Warsaw.07.jpg\\n Warsaw.08.png\\n Warsaw.09.png\\n Warsaw.10.jpg'"
      ]
     },
     "execution_count": 5,
     "metadata": {},
     "output_type": "execute_result"
    }
   ],
   "source": [
    "# Apply function \n",
    "solution(S)"
   ]
  }
 ],
 "metadata": {
  "kernelspec": {
   "display_name": "Python 3 (ipykernel)",
   "language": "python",
   "name": "python3"
  },
  "language_info": {
   "codemirror_mode": {
    "name": "ipython",
    "version": 3
   },
   "file_extension": ".py",
   "mimetype": "text/x-python",
   "name": "python",
   "nbconvert_exporter": "python",
   "pygments_lexer": "ipython3",
   "version": "3.12.3"
  }
 },
 "nbformat": 4,
 "nbformat_minor": 5
}
