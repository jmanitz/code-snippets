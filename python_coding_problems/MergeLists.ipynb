{
 "cells": [
  {
   "cell_type": "code",
   "execution_count": null,
   "id": "a827d97a-2dec-4d8d-82c8-00b3aae1d462",
   "metadata": {},
   "outputs": [],
   "source": [
    "# Problem: You are given the heads of two sorted linked lists list1 and list2.\n",
    "# Merge the two lists into one sorted list. The list should be made by splicing together the nodes of the first two lists.\n",
    "# Return the head of the merged linked list."
   ]
  },
  {
   "cell_type": "code",
   "execution_count": 140,
   "id": "b579d906-7938-4c45-a76f-97b44e8ca5c6",
   "metadata": {},
   "outputs": [],
   "source": [
    "def mergeTwoLists(list1, list2):\n",
    "\n",
    "    p1,p2 = list1, list2\n",
    "    \n",
    "    ret = []\n",
    "    i,j = 0,0\n",
    "\n",
    "    while i < len(p1) and j < len(p2):\n",
    "        if p1[i] < p2[j]:\n",
    "            ret.append(p1[i])\n",
    "            i += 1\n",
    "        else: \n",
    "            ret.append(p2[j])\n",
    "            j += 1\n",
    "    ret = ret + p1[i:] + p2[j:]\n",
    "\n",
    "    return ret \n"
   ]
  },
  {
   "cell_type": "code",
   "execution_count": 142,
   "id": "9bc26612-ab3b-4be3-8255-82e5b82d3871",
   "metadata": {},
   "outputs": [
    {
     "data": {
      "text/plain": [
       "[1, 1, 2, 2, 3, 5]"
      ]
     },
     "execution_count": 142,
     "metadata": {},
     "output_type": "execute_result"
    }
   ],
   "source": [
    "mergeTwoLists([1,2,3], [1,2,5])"
   ]
  },
  {
   "cell_type": "code",
   "execution_count": 144,
   "id": "a3101308-27c8-4455-bb2a-fd9876302ebb",
   "metadata": {},
   "outputs": [
    {
     "data": {
      "text/plain": [
       "[1, 1, 2, 3, 5, 6, 9, 11]"
      ]
     },
     "execution_count": 144,
     "metadata": {},
     "output_type": "execute_result"
    }
   ],
   "source": [
    "mergeTwoLists([1,2,3], [1, 5, 6, 9, 11])"
   ]
  },
  {
   "cell_type": "code",
   "execution_count": 146,
   "id": "c04b551f-2477-4565-97d2-54321db2baa4",
   "metadata": {},
   "outputs": [
    {
     "data": {
      "text/plain": [
       "[1, 3, 4, 5, 6, 7, 8, 9, 10, 11]"
      ]
     },
     "execution_count": 146,
     "metadata": {},
     "output_type": "execute_result"
    }
   ],
   "source": [
    "mergeTwoLists([1, 5, 6, 9, 11], [3, 4, 7, 8, 10])\n"
   ]
  },
  {
   "cell_type": "code",
   "execution_count": 148,
   "id": "11b5b5e7-e2db-458e-a523-3f08d3dc7713",
   "metadata": {},
   "outputs": [
    {
     "data": {
      "text/plain": [
       "[]"
      ]
     },
     "execution_count": 148,
     "metadata": {},
     "output_type": "execute_result"
    }
   ],
   "source": [
    "mergeTwoLists([],[])"
   ]
  },
  {
   "cell_type": "code",
   "execution_count": 115,
   "id": "b3398551-6696-46ed-86c3-621291e44f52",
   "metadata": {},
   "outputs": [
    {
     "name": "stdout",
     "output_type": "stream",
     "text": [
      "[1, 1, 2, 2, 3, 4, 4]\n"
     ]
    }
   ],
   "source": [
    "# simpler way using pythons's build-in function sort() that modifies the list in place and returns \"None\"\n",
    "p1 = [1, 5, 6, 9, 11]\n",
    "p2 = [3, 4, 7, 8, 10]\n",
    "ret = p1 + p2\n",
    "ret.sort() \n",
    "print(ret)"
   ]
  },
  {
   "cell_type": "code",
   "execution_count": 168,
   "id": "1f759879-c583-422a-b4c9-a1fa85a53b28",
   "metadata": {},
   "outputs": [],
   "source": [
    "# Definition for singly-linked list.\n",
    "# class ListNode(object):\n",
    "#     def __init__(self, val=0, next=None):\n",
    "#         self.val = val\n",
    "#         self.next = next\n",
    "\n",
    "def mergeKLists(lists):\n",
    "        \"\"\"\n",
    "        :type lists: List[Optional[ListNode]]\n",
    "        :rtype: Optional[ListNode]\n",
    "        \"\"\"\n",
    "        ret = []\n",
    "        i = 0\n",
    "        while i < len(lists):\n",
    "            #print(lists[i]\n",
    "            ret = ret + lists[i]\n",
    "            i += 1\n",
    "\n",
    "        ret.sort()\n",
    "        return ret\n"
   ]
  },
  {
   "cell_type": "code",
   "execution_count": 170,
   "id": "6ef2ea86-bb8f-4bdb-9e3c-2422830d1c69",
   "metadata": {},
   "outputs": [
    {
     "data": {
      "text/plain": [
       "[1, 1, 2, 3, 4, 4, 5, 6]"
      ]
     },
     "execution_count": 170,
     "metadata": {},
     "output_type": "execute_result"
    }
   ],
   "source": [
    "lists = [[1,4,5],[1,3,4],[2,6]]\n",
    "mergeKLists(lists)"
   ]
  },
  {
   "cell_type": "code",
   "execution_count": 172,
   "id": "d13d7dbd-c98c-44f0-95cd-fc975a905beb",
   "metadata": {},
   "outputs": [
    {
     "data": {
      "text/plain": [
       "[]"
      ]
     },
     "execution_count": 172,
     "metadata": {},
     "output_type": "execute_result"
    }
   ],
   "source": [
    "mergeKLists([])"
   ]
  },
  {
   "cell_type": "code",
   "execution_count": 174,
   "id": "fa03bb33-c983-43e0-be6c-ec7112c19b3e",
   "metadata": {},
   "outputs": [
    {
     "data": {
      "text/plain": [
       "[]"
      ]
     },
     "execution_count": 174,
     "metadata": {},
     "output_type": "execute_result"
    }
   ],
   "source": [
    "mergeKLists([[]])"
   ]
  }
 ],
 "metadata": {
  "kernelspec": {
   "display_name": "Python 3 (ipykernel)",
   "language": "python",
   "name": "python3"
  },
  "language_info": {
   "codemirror_mode": {
    "name": "ipython",
    "version": 3
   },
   "file_extension": ".py",
   "mimetype": "text/x-python",
   "name": "python",
   "nbconvert_exporter": "python",
   "pygments_lexer": "ipython3",
   "version": "3.12.3"
  }
 },
 "nbformat": 4,
 "nbformat_minor": 5
}
