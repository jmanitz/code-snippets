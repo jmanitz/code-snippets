{
 "cells": [
  {
   "cell_type": "code",
   "execution_count": null,
   "id": "fab676f2-0824-469e-824d-4cad353efa86",
   "metadata": {},
   "outputs": [],
   "source": [
    "# Problem: Given an array of integers nums and an integer target, return indices of the two numbers such that they add up to target.\n",
    "# You may assume that each input would have exactly one solution, and you may not use the same element twice.\n",
    "# You can return the answer in any order."
   ]
  },
  {
   "cell_type": "code",
   "execution_count": 9,
   "id": "66440bee-7165-441f-89e8-f8d3014f831b",
   "metadata": {},
   "outputs": [],
   "source": [
    "\n",
    "def twoSum(nums, target):\n",
    " #   def twoSum(self, nums: List[int], target: int) -> List[int]:\n",
    "    num_to_index = {}\n",
    "\n",
    "    for i, num in enumerate(nums): \n",
    "        diff = target - num\n",
    "        if diff in num_to_index: \n",
    "            return[num_to_index[diff], i]\n",
    "        num_to_index[num] = i\n",
    "\n",
    "    raise ValueError(\"No solution available\")"
   ]
  },
  {
   "cell_type": "code",
   "execution_count": 11,
   "id": "5ed0c104-8562-4119-a3f5-19ec8b0d6d8e",
   "metadata": {},
   "outputs": [
    {
     "data": {
      "text/plain": [
       "[0, 1]"
      ]
     },
     "execution_count": 11,
     "metadata": {},
     "output_type": "execute_result"
    }
   ],
   "source": [
    "twoSum(nums=[2,7,11,15], target=9)"
   ]
  },
  {
   "cell_type": "code",
   "execution_count": 13,
   "id": "ed026848-b902-4681-a23f-4fd522f17b06",
   "metadata": {},
   "outputs": [
    {
     "data": {
      "text/plain": [
       "[1, 2]"
      ]
     },
     "execution_count": 13,
     "metadata": {},
     "output_type": "execute_result"
    }
   ],
   "source": [
    "twoSum(nums= [3,2,4], target=6)"
   ]
  },
  {
   "cell_type": "code",
   "execution_count": 15,
   "id": "03477cd3-ede6-4add-b8be-40130faf6cb0",
   "metadata": {},
   "outputs": [
    {
     "data": {
      "text/plain": [
       "[0, 1]"
      ]
     },
     "execution_count": 15,
     "metadata": {},
     "output_type": "execute_result"
    }
   ],
   "source": [
    "twoSum(nums=[3,3], target=6)"
   ]
  }
 ],
 "metadata": {
  "kernelspec": {
   "display_name": "Python 3 (ipykernel)",
   "language": "python",
   "name": "python3"
  },
  "language_info": {
   "codemirror_mode": {
    "name": "ipython",
    "version": 3
   },
   "file_extension": ".py",
   "mimetype": "text/x-python",
   "name": "python",
   "nbconvert_exporter": "python",
   "pygments_lexer": "ipython3",
   "version": "3.12.3"
  }
 },
 "nbformat": 4,
 "nbformat_minor": 5
}
